{
  "nbformat": 4,
  "nbformat_minor": 0,
  "metadata": {
    "colab": {
      "name": "Autolib_bluecar_usage_analysis.ipynb",
      "provenance": [],
      "collapsed_sections": []
    },
    "kernelspec": {
      "name": "python3",
      "display_name": "Python 3"
    },
    "language_info": {
      "name": "python"
    }
  },
  "cells": [
    {
      "cell_type": "markdown",
      "metadata": {
        "id": "mUdm1aHU4MTu"
      },
      "source": [
        "#Autolib electric car sharing service analysis"
      ]
    },
    {
      "cell_type": "markdown",
      "metadata": {
        "id": "YeosxOKf4gQH"
      },
      "source": [
        "**Overview**\n",
        "\n",
        "\n",
        "We will work as a Data Scientist for the Autolib electric car-sharing service company to investigate a claim about the blue cars from the provided Autolib dataset.\n",
        "\n",
        "\n"
      ]
    },
    {
      "cell_type": "markdown",
      "metadata": {
        "id": "6sVVTjOaPc_w"
      },
      "source": [
        "**Defining our research question**"
      ]
    },
    {
      "cell_type": "markdown",
      "metadata": {
        "id": "3dJ3CNyZQKH9"
      },
      "source": [
        "We will try to understand bluecar usage during the weekends by comparing two different areas indicated by their postal code"
      ]
    },
    {
      "cell_type": "markdown",
      "metadata": {
        "id": "jKPfAlPBSahL"
      },
      "source": [
        "Specific questions\n",
        "\n",
        "1.   Is the number of bluecars taken in area 95880 different that in area 75012?\n",
        "2.   Which day of the weekend were the bluecars taken most in the two areas?\n",
        "1.   is there a difference between the sum of bluecars taken and the sum of bluecars returned?\n",
        "\n",
        "\n",
        "\n",
        "\n"
      ]
    },
    {
      "cell_type": "markdown",
      "metadata": {
        "id": "zOoOkKCDUNna"
      },
      "source": [
        "Find more context and step by step analysis explanation here: https://docs.google.com/document/d/15bV_PE9YpPGUkWzPN-QwDwqQC7uTEisWcc5BoLuUxqM/edit?usp=sharing "
      ]
    },
    {
      "cell_type": "markdown",
      "metadata": {
        "id": "MgBJ_H_o5bhK"
      },
      "source": [
        "**Processing our dataset to understand electric car usage over time**"
      ]
    },
    {
      "cell_type": "code",
      "metadata": {
        "id": "AL8avVBu5qJ9"
      },
      "source": [
        "##Importing our libraries\n",
        "\n",
        "import pandas as pd\n",
        "\n",
        "import numpy as np\n",
        "\n",
        "import seaborn as sns\n",
        "\n",
        "import matplotlib.pyplot as plt\n",
        "\n",
        "\n"
      ],
      "execution_count": null,
      "outputs": []
    },
    {
      "cell_type": "markdown",
      "metadata": {
        "id": "R9no-q4R9Vjb"
      },
      "source": [
        "#1.0 Reading the Dataset"
      ]
    },
    {
      "cell_type": "code",
      "metadata": {
        "id": "faJonHH_9kaU"
      },
      "source": [
        "##Dataset url= http://bit.ly/DSCoreAutolibDataset\n",
        "\n",
        "\n",
        "##autolib_df = pd.read_csv('autolib_daily_events_postal_code.csv')\n",
        "##autolib_df\n",
        "\n",
        "autolib_df= pd.read_csv('http://bit.ly/DSCoreAutolibDataset')\n"
      ],
      "execution_count": 306,
      "outputs": []
    },
    {
      "cell_type": "code",
      "metadata": {
        "colab": {
          "base_uri": "https://localhost:8080/",
          "height": 396
        },
        "id": "BiObSecAClfH",
        "outputId": "ba2bdb5c-74a3-40b3-f3b8-4ee8d7004f24"
      },
      "source": [
        "#Previewing the first 10 records of dataset\n",
        "\n",
        "autolib_df.head(10)\n"
      ],
      "execution_count": 307,
      "outputs": [
        {
          "output_type": "execute_result",
          "data": {
            "text/html": [
              "<div>\n",
              "<style scoped>\n",
              "    .dataframe tbody tr th:only-of-type {\n",
              "        vertical-align: middle;\n",
              "    }\n",
              "\n",
              "    .dataframe tbody tr th {\n",
              "        vertical-align: top;\n",
              "    }\n",
              "\n",
              "    .dataframe thead th {\n",
              "        text-align: right;\n",
              "    }\n",
              "</style>\n",
              "<table border=\"1\" class=\"dataframe\">\n",
              "  <thead>\n",
              "    <tr style=\"text-align: right;\">\n",
              "      <th></th>\n",
              "      <th>Postal code</th>\n",
              "      <th>date</th>\n",
              "      <th>n_daily_data_points</th>\n",
              "      <th>dayOfWeek</th>\n",
              "      <th>day_type</th>\n",
              "      <th>BlueCars_taken_sum</th>\n",
              "      <th>BlueCars_returned_sum</th>\n",
              "      <th>Utilib_taken_sum</th>\n",
              "      <th>Utilib_returned_sum</th>\n",
              "      <th>Utilib_14_taken_sum</th>\n",
              "      <th>Utilib_14_returned_sum</th>\n",
              "      <th>Slots_freed_sum</th>\n",
              "      <th>Slots_taken_sum</th>\n",
              "    </tr>\n",
              "  </thead>\n",
              "  <tbody>\n",
              "    <tr>\n",
              "      <th>0</th>\n",
              "      <td>75001</td>\n",
              "      <td>1/1/2018</td>\n",
              "      <td>1440</td>\n",
              "      <td>0</td>\n",
              "      <td>weekday</td>\n",
              "      <td>110</td>\n",
              "      <td>103</td>\n",
              "      <td>3</td>\n",
              "      <td>2</td>\n",
              "      <td>10</td>\n",
              "      <td>9</td>\n",
              "      <td>22</td>\n",
              "      <td>20</td>\n",
              "    </tr>\n",
              "    <tr>\n",
              "      <th>1</th>\n",
              "      <td>75001</td>\n",
              "      <td>1/2/2018</td>\n",
              "      <td>1438</td>\n",
              "      <td>1</td>\n",
              "      <td>weekday</td>\n",
              "      <td>98</td>\n",
              "      <td>94</td>\n",
              "      <td>1</td>\n",
              "      <td>1</td>\n",
              "      <td>8</td>\n",
              "      <td>8</td>\n",
              "      <td>23</td>\n",
              "      <td>22</td>\n",
              "    </tr>\n",
              "    <tr>\n",
              "      <th>2</th>\n",
              "      <td>75001</td>\n",
              "      <td>1/3/2018</td>\n",
              "      <td>1439</td>\n",
              "      <td>2</td>\n",
              "      <td>weekday</td>\n",
              "      <td>138</td>\n",
              "      <td>139</td>\n",
              "      <td>0</td>\n",
              "      <td>0</td>\n",
              "      <td>2</td>\n",
              "      <td>2</td>\n",
              "      <td>27</td>\n",
              "      <td>27</td>\n",
              "    </tr>\n",
              "    <tr>\n",
              "      <th>3</th>\n",
              "      <td>75001</td>\n",
              "      <td>1/4/2018</td>\n",
              "      <td>1320</td>\n",
              "      <td>3</td>\n",
              "      <td>weekday</td>\n",
              "      <td>104</td>\n",
              "      <td>104</td>\n",
              "      <td>2</td>\n",
              "      <td>2</td>\n",
              "      <td>9</td>\n",
              "      <td>8</td>\n",
              "      <td>25</td>\n",
              "      <td>21</td>\n",
              "    </tr>\n",
              "    <tr>\n",
              "      <th>4</th>\n",
              "      <td>75001</td>\n",
              "      <td>1/5/2018</td>\n",
              "      <td>1440</td>\n",
              "      <td>4</td>\n",
              "      <td>weekday</td>\n",
              "      <td>114</td>\n",
              "      <td>117</td>\n",
              "      <td>3</td>\n",
              "      <td>3</td>\n",
              "      <td>6</td>\n",
              "      <td>6</td>\n",
              "      <td>18</td>\n",
              "      <td>20</td>\n",
              "    </tr>\n",
              "    <tr>\n",
              "      <th>5</th>\n",
              "      <td>75001</td>\n",
              "      <td>1/6/2018</td>\n",
              "      <td>1437</td>\n",
              "      <td>5</td>\n",
              "      <td>weekend</td>\n",
              "      <td>187</td>\n",
              "      <td>185</td>\n",
              "      <td>6</td>\n",
              "      <td>6</td>\n",
              "      <td>7</td>\n",
              "      <td>8</td>\n",
              "      <td>38</td>\n",
              "      <td>35</td>\n",
              "    </tr>\n",
              "    <tr>\n",
              "      <th>6</th>\n",
              "      <td>75001</td>\n",
              "      <td>1/7/2018</td>\n",
              "      <td>1440</td>\n",
              "      <td>6</td>\n",
              "      <td>weekend</td>\n",
              "      <td>180</td>\n",
              "      <td>180</td>\n",
              "      <td>2</td>\n",
              "      <td>2</td>\n",
              "      <td>10</td>\n",
              "      <td>9</td>\n",
              "      <td>34</td>\n",
              "      <td>34</td>\n",
              "    </tr>\n",
              "    <tr>\n",
              "      <th>7</th>\n",
              "      <td>75001</td>\n",
              "      <td>1/8/2018</td>\n",
              "      <td>1438</td>\n",
              "      <td>0</td>\n",
              "      <td>weekday</td>\n",
              "      <td>84</td>\n",
              "      <td>83</td>\n",
              "      <td>3</td>\n",
              "      <td>3</td>\n",
              "      <td>10</td>\n",
              "      <td>10</td>\n",
              "      <td>14</td>\n",
              "      <td>15</td>\n",
              "    </tr>\n",
              "    <tr>\n",
              "      <th>8</th>\n",
              "      <td>75001</td>\n",
              "      <td>1/9/2018</td>\n",
              "      <td>1439</td>\n",
              "      <td>1</td>\n",
              "      <td>weekday</td>\n",
              "      <td>81</td>\n",
              "      <td>84</td>\n",
              "      <td>1</td>\n",
              "      <td>1</td>\n",
              "      <td>4</td>\n",
              "      <td>4</td>\n",
              "      <td>15</td>\n",
              "      <td>15</td>\n",
              "    </tr>\n",
              "    <tr>\n",
              "      <th>9</th>\n",
              "      <td>75001</td>\n",
              "      <td>1/10/2018</td>\n",
              "      <td>1440</td>\n",
              "      <td>2</td>\n",
              "      <td>weekday</td>\n",
              "      <td>88</td>\n",
              "      <td>85</td>\n",
              "      <td>5</td>\n",
              "      <td>5</td>\n",
              "      <td>11</td>\n",
              "      <td>11</td>\n",
              "      <td>23</td>\n",
              "      <td>22</td>\n",
              "    </tr>\n",
              "  </tbody>\n",
              "</table>\n",
              "</div>"
            ],
            "text/plain": [
              "   Postal code       date  ...  Slots_freed_sum  Slots_taken_sum\n",
              "0        75001   1/1/2018  ...               22               20\n",
              "1        75001   1/2/2018  ...               23               22\n",
              "2        75001   1/3/2018  ...               27               27\n",
              "3        75001   1/4/2018  ...               25               21\n",
              "4        75001   1/5/2018  ...               18               20\n",
              "5        75001   1/6/2018  ...               38               35\n",
              "6        75001   1/7/2018  ...               34               34\n",
              "7        75001   1/8/2018  ...               14               15\n",
              "8        75001   1/9/2018  ...               15               15\n",
              "9        75001  1/10/2018  ...               23               22\n",
              "\n",
              "[10 rows x 13 columns]"
            ]
          },
          "metadata": {
            "tags": []
          },
          "execution_count": 307
        }
      ]
    },
    {
      "cell_type": "code",
      "metadata": {
        "colab": {
          "base_uri": "https://localhost:8080/",
          "height": 396
        },
        "id": "oZgFtIs-C9tu",
        "outputId": "3f9d97a3-5343-4ec4-a7b5-8f9f99a2bbe2"
      },
      "source": [
        "#Previewing the last 10 records of dataset\n",
        "\n",
        "autolib_df.tail(10)\n"
      ],
      "execution_count": 308,
      "outputs": [
        {
          "output_type": "execute_result",
          "data": {
            "text/html": [
              "<div>\n",
              "<style scoped>\n",
              "    .dataframe tbody tr th:only-of-type {\n",
              "        vertical-align: middle;\n",
              "    }\n",
              "\n",
              "    .dataframe tbody tr th {\n",
              "        vertical-align: top;\n",
              "    }\n",
              "\n",
              "    .dataframe thead th {\n",
              "        text-align: right;\n",
              "    }\n",
              "</style>\n",
              "<table border=\"1\" class=\"dataframe\">\n",
              "  <thead>\n",
              "    <tr style=\"text-align: right;\">\n",
              "      <th></th>\n",
              "      <th>Postal code</th>\n",
              "      <th>date</th>\n",
              "      <th>n_daily_data_points</th>\n",
              "      <th>dayOfWeek</th>\n",
              "      <th>day_type</th>\n",
              "      <th>BlueCars_taken_sum</th>\n",
              "      <th>BlueCars_returned_sum</th>\n",
              "      <th>Utilib_taken_sum</th>\n",
              "      <th>Utilib_returned_sum</th>\n",
              "      <th>Utilib_14_taken_sum</th>\n",
              "      <th>Utilib_14_returned_sum</th>\n",
              "      <th>Slots_freed_sum</th>\n",
              "      <th>Slots_taken_sum</th>\n",
              "    </tr>\n",
              "  </thead>\n",
              "  <tbody>\n",
              "    <tr>\n",
              "      <th>16075</th>\n",
              "      <td>95880</td>\n",
              "      <td>6/10/2018</td>\n",
              "      <td>1440</td>\n",
              "      <td>6</td>\n",
              "      <td>weekend</td>\n",
              "      <td>34</td>\n",
              "      <td>32</td>\n",
              "      <td>0</td>\n",
              "      <td>0</td>\n",
              "      <td>1</td>\n",
              "      <td>0</td>\n",
              "      <td>0</td>\n",
              "      <td>0</td>\n",
              "    </tr>\n",
              "    <tr>\n",
              "      <th>16076</th>\n",
              "      <td>95880</td>\n",
              "      <td>6/11/2018</td>\n",
              "      <td>1440</td>\n",
              "      <td>0</td>\n",
              "      <td>weekday</td>\n",
              "      <td>17</td>\n",
              "      <td>18</td>\n",
              "      <td>0</td>\n",
              "      <td>0</td>\n",
              "      <td>0</td>\n",
              "      <td>0</td>\n",
              "      <td>0</td>\n",
              "      <td>0</td>\n",
              "    </tr>\n",
              "    <tr>\n",
              "      <th>16077</th>\n",
              "      <td>95880</td>\n",
              "      <td>6/12/2018</td>\n",
              "      <td>1439</td>\n",
              "      <td>1</td>\n",
              "      <td>weekday</td>\n",
              "      <td>25</td>\n",
              "      <td>25</td>\n",
              "      <td>0</td>\n",
              "      <td>0</td>\n",
              "      <td>0</td>\n",
              "      <td>0</td>\n",
              "      <td>0</td>\n",
              "      <td>0</td>\n",
              "    </tr>\n",
              "    <tr>\n",
              "      <th>16078</th>\n",
              "      <td>95880</td>\n",
              "      <td>6/13/2018</td>\n",
              "      <td>1440</td>\n",
              "      <td>2</td>\n",
              "      <td>weekday</td>\n",
              "      <td>12</td>\n",
              "      <td>13</td>\n",
              "      <td>0</td>\n",
              "      <td>0</td>\n",
              "      <td>1</td>\n",
              "      <td>1</td>\n",
              "      <td>0</td>\n",
              "      <td>0</td>\n",
              "    </tr>\n",
              "    <tr>\n",
              "      <th>16079</th>\n",
              "      <td>95880</td>\n",
              "      <td>6/14/2018</td>\n",
              "      <td>1439</td>\n",
              "      <td>3</td>\n",
              "      <td>weekday</td>\n",
              "      <td>15</td>\n",
              "      <td>13</td>\n",
              "      <td>0</td>\n",
              "      <td>0</td>\n",
              "      <td>0</td>\n",
              "      <td>0</td>\n",
              "      <td>0</td>\n",
              "      <td>0</td>\n",
              "    </tr>\n",
              "    <tr>\n",
              "      <th>16080</th>\n",
              "      <td>95880</td>\n",
              "      <td>6/15/2018</td>\n",
              "      <td>1440</td>\n",
              "      <td>4</td>\n",
              "      <td>weekday</td>\n",
              "      <td>15</td>\n",
              "      <td>10</td>\n",
              "      <td>0</td>\n",
              "      <td>0</td>\n",
              "      <td>2</td>\n",
              "      <td>3</td>\n",
              "      <td>0</td>\n",
              "      <td>0</td>\n",
              "    </tr>\n",
              "    <tr>\n",
              "      <th>16081</th>\n",
              "      <td>95880</td>\n",
              "      <td>6/16/2018</td>\n",
              "      <td>1440</td>\n",
              "      <td>5</td>\n",
              "      <td>weekend</td>\n",
              "      <td>19</td>\n",
              "      <td>19</td>\n",
              "      <td>0</td>\n",
              "      <td>0</td>\n",
              "      <td>2</td>\n",
              "      <td>1</td>\n",
              "      <td>0</td>\n",
              "      <td>0</td>\n",
              "    </tr>\n",
              "    <tr>\n",
              "      <th>16082</th>\n",
              "      <td>95880</td>\n",
              "      <td>6/17/2018</td>\n",
              "      <td>1440</td>\n",
              "      <td>6</td>\n",
              "      <td>weekend</td>\n",
              "      <td>33</td>\n",
              "      <td>35</td>\n",
              "      <td>1</td>\n",
              "      <td>1</td>\n",
              "      <td>0</td>\n",
              "      <td>0</td>\n",
              "      <td>0</td>\n",
              "      <td>0</td>\n",
              "    </tr>\n",
              "    <tr>\n",
              "      <th>16083</th>\n",
              "      <td>95880</td>\n",
              "      <td>6/18/2018</td>\n",
              "      <td>1440</td>\n",
              "      <td>0</td>\n",
              "      <td>weekday</td>\n",
              "      <td>11</td>\n",
              "      <td>14</td>\n",
              "      <td>3</td>\n",
              "      <td>5</td>\n",
              "      <td>2</td>\n",
              "      <td>2</td>\n",
              "      <td>0</td>\n",
              "      <td>0</td>\n",
              "    </tr>\n",
              "    <tr>\n",
              "      <th>16084</th>\n",
              "      <td>95880</td>\n",
              "      <td>6/19/2018</td>\n",
              "      <td>1370</td>\n",
              "      <td>1</td>\n",
              "      <td>weekday</td>\n",
              "      <td>2</td>\n",
              "      <td>2</td>\n",
              "      <td>2</td>\n",
              "      <td>1</td>\n",
              "      <td>0</td>\n",
              "      <td>0</td>\n",
              "      <td>0</td>\n",
              "      <td>0</td>\n",
              "    </tr>\n",
              "  </tbody>\n",
              "</table>\n",
              "</div>"
            ],
            "text/plain": [
              "       Postal code       date  ...  Slots_freed_sum  Slots_taken_sum\n",
              "16075        95880  6/10/2018  ...                0                0\n",
              "16076        95880  6/11/2018  ...                0                0\n",
              "16077        95880  6/12/2018  ...                0                0\n",
              "16078        95880  6/13/2018  ...                0                0\n",
              "16079        95880  6/14/2018  ...                0                0\n",
              "16080        95880  6/15/2018  ...                0                0\n",
              "16081        95880  6/16/2018  ...                0                0\n",
              "16082        95880  6/17/2018  ...                0                0\n",
              "16083        95880  6/18/2018  ...                0                0\n",
              "16084        95880  6/19/2018  ...                0                0\n",
              "\n",
              "[10 rows x 13 columns]"
            ]
          },
          "metadata": {
            "tags": []
          },
          "execution_count": 308
        }
      ]
    },
    {
      "cell_type": "code",
      "metadata": {
        "colab": {
          "base_uri": "https://localhost:8080/"
        },
        "id": "cyl8VCGsFhpm",
        "outputId": "249c24a9-9136-4723-f7d1-7ac38b32e100"
      },
      "source": [
        "#Data dimension\n",
        "autolib_df.shape"
      ],
      "execution_count": 309,
      "outputs": [
        {
          "output_type": "execute_result",
          "data": {
            "text/plain": [
              "(16085, 13)"
            ]
          },
          "metadata": {
            "tags": []
          },
          "execution_count": 309
        }
      ]
    },
    {
      "cell_type": "code",
      "metadata": {
        "colab": {
          "base_uri": "https://localhost:8080/"
        },
        "id": "h-mdRS5-S1tP",
        "outputId": "26793e61-6bc0-4fc8-f1b6-af8ab00f7291"
      },
      "source": [
        "##Finding uniques values\n",
        "autolib_df.nunique()"
      ],
      "execution_count": 310,
      "outputs": [
        {
          "output_type": "execute_result",
          "data": {
            "text/plain": [
              "Postal code               104\n",
              "date                      156\n",
              "n_daily_data_points        23\n",
              "dayOfWeek                   7\n",
              "day_type                    2\n",
              "BlueCars_taken_sum        932\n",
              "BlueCars_returned_sum     929\n",
              "Utilib_taken_sum           48\n",
              "Utilib_returned_sum        49\n",
              "Utilib_14_taken_sum        92\n",
              "Utilib_14_returned_sum     94\n",
              "Slots_freed_sum           297\n",
              "Slots_taken_sum           301\n",
              "dtype: int64"
            ]
          },
          "metadata": {
            "tags": []
          },
          "execution_count": 310
        }
      ]
    },
    {
      "cell_type": "code",
      "metadata": {
        "colab": {
          "base_uri": "https://localhost:8080/"
        },
        "id": "twhgWpO5GL0r",
        "outputId": "1456cba4-a168-4eaf-84e7-78003aee1003"
      },
      "source": [
        "#Confirming the datatypes\n",
        "autolib_df.dtypes"
      ],
      "execution_count": 311,
      "outputs": [
        {
          "output_type": "execute_result",
          "data": {
            "text/plain": [
              "Postal code                int64\n",
              "date                      object\n",
              "n_daily_data_points        int64\n",
              "dayOfWeek                  int64\n",
              "day_type                  object\n",
              "BlueCars_taken_sum         int64\n",
              "BlueCars_returned_sum      int64\n",
              "Utilib_taken_sum           int64\n",
              "Utilib_returned_sum        int64\n",
              "Utilib_14_taken_sum        int64\n",
              "Utilib_14_returned_sum     int64\n",
              "Slots_freed_sum            int64\n",
              "Slots_taken_sum            int64\n",
              "dtype: object"
            ]
          },
          "metadata": {
            "tags": []
          },
          "execution_count": 311
        }
      ]
    },
    {
      "cell_type": "markdown",
      "metadata": {
        "id": "fyx4olVVFRuV"
      },
      "source": [
        "#2.0 Data Cleaning"
      ]
    },
    {
      "cell_type": "code",
      "metadata": {
        "id": "ma0aRLn-Ggzl"
      },
      "source": [
        "#From our initial data investigation above there are some things about our variables we would like to change:\n",
        "\n",
        "#Completeness~ We will check for missing values in our dataset\n",
        "#Consistency~ We need to rename some of our column names to be uniform and make it easy to work with\n",
        "##We will also check for duplicates##Our date columns will be changed to datetime \n",
        "#Validity ~ We will drop columns that are irrelevant to our analysis\n",
        "#Accuracy~ We will eliminate outliers \n"
      ],
      "execution_count": null,
      "outputs": []
    },
    {
      "cell_type": "markdown",
      "metadata": {
        "id": "Rdu3MHwZGr12"
      },
      "source": [
        "**Checking for missing values**"
      ]
    },
    {
      "cell_type": "code",
      "metadata": {
        "colab": {
          "base_uri": "https://localhost:8080/"
        },
        "id": "f8j-Dr1wG1m7",
        "outputId": "3c2f1dc9-6f2d-4c49-b8e5-68f7aaa93863"
      },
      "source": [
        "autolib_df.isnull().sum()"
      ],
      "execution_count": 312,
      "outputs": [
        {
          "output_type": "execute_result",
          "data": {
            "text/plain": [
              "Postal code               0\n",
              "date                      0\n",
              "n_daily_data_points       0\n",
              "dayOfWeek                 0\n",
              "day_type                  0\n",
              "BlueCars_taken_sum        0\n",
              "BlueCars_returned_sum     0\n",
              "Utilib_taken_sum          0\n",
              "Utilib_returned_sum       0\n",
              "Utilib_14_taken_sum       0\n",
              "Utilib_14_returned_sum    0\n",
              "Slots_freed_sum           0\n",
              "Slots_taken_sum           0\n",
              "dtype: int64"
            ]
          },
          "metadata": {
            "tags": []
          },
          "execution_count": 312
        }
      ]
    },
    {
      "cell_type": "code",
      "metadata": {
        "id": "x_A5oEkdG-ja"
      },
      "source": [
        "#There are no missing values in our datasets"
      ],
      "execution_count": null,
      "outputs": []
    },
    {
      "cell_type": "markdown",
      "metadata": {
        "id": "5thf41aDMo-N"
      },
      "source": [
        "Checking for duplicates"
      ]
    },
    {
      "cell_type": "code",
      "metadata": {
        "colab": {
          "base_uri": "https://localhost:8080/"
        },
        "id": "QtrQszjsM0wg",
        "outputId": "cd254ee5-ca87-4184-b288-9b229bb716df"
      },
      "source": [
        "autolib_df.duplicated().sum()"
      ],
      "execution_count": null,
      "outputs": [
        {
          "output_type": "execute_result",
          "data": {
            "text/plain": [
              "0"
            ]
          },
          "metadata": {
            "tags": []
          },
          "execution_count": 23
        }
      ]
    },
    {
      "cell_type": "code",
      "metadata": {
        "id": "l93Dfce5N0aQ"
      },
      "source": [
        "#There are no duplicates in our dataset"
      ],
      "execution_count": null,
      "outputs": []
    },
    {
      "cell_type": "markdown",
      "metadata": {
        "id": "REOfw58THUrg"
      },
      "source": [
        "  **Renaming the column names with uniform names**"
      ]
    },
    {
      "cell_type": "code",
      "metadata": {
        "colab": {
          "base_uri": "https://localhost:8080/"
        },
        "id": "W6ftx10vHcvS",
        "outputId": "2792ceba-6a0b-4a47-806c-c3a64b12bcab"
      },
      "source": [
        "#\n",
        "autolib_df.columns"
      ],
      "execution_count": 313,
      "outputs": [
        {
          "output_type": "execute_result",
          "data": {
            "text/plain": [
              "Index(['Postal code', 'date', 'n_daily_data_points', 'dayOfWeek', 'day_type',\n",
              "       'BlueCars_taken_sum', 'BlueCars_returned_sum', 'Utilib_taken_sum',\n",
              "       'Utilib_returned_sum', 'Utilib_14_taken_sum', 'Utilib_14_returned_sum',\n",
              "       'Slots_freed_sum', 'Slots_taken_sum'],\n",
              "      dtype='object')"
            ]
          },
          "metadata": {
            "tags": []
          },
          "execution_count": 313
        }
      ]
    },
    {
      "cell_type": "code",
      "metadata": {
        "id": "AoM_n0a_I3j5"
      },
      "source": [
        "autolib_df.rename(columns={\"Postal code\" : \"postal_code\", \"BlueCars_taken_sum\" :\"blue_cars_taken_sum\", \"BlueCars_returned_sum\" :\"blue_cars_returned_sum\",\"Utilib_returned_sum\":\"utilib_returned_sum\",\"Utilib_taken_sum\":\"utilib_taken_sum\",\"Utilib_14_taken_sum\":\"utilib_14_sum\", \"Utilib_14_returned_sum\":\"utilib_14_returned_sum\", \"Slots_freed_sum\":\"slots_freed_sum\", \"Slots_taken_sum\":\"slots_taken_sum\", \"dayOfWeek\" : \"day_of_week\"},inplace = True)"
      ],
      "execution_count": 314,
      "outputs": []
    },
    {
      "cell_type": "code",
      "metadata": {
        "colab": {
          "base_uri": "https://localhost:8080/"
        },
        "id": "77zw5-qEKwaK",
        "outputId": "ef49db90-b53a-483f-bbf3-ddd70e0812e2"
      },
      "source": [
        "#Confirming change of columns names\n",
        "autolib_df.columns"
      ],
      "execution_count": 315,
      "outputs": [
        {
          "output_type": "execute_result",
          "data": {
            "text/plain": [
              "Index(['postal_code', 'date', 'n_daily_data_points', 'day_of_week', 'day_type',\n",
              "       'blue_cars_taken_sum', 'blue_cars_returned_sum', 'utilib_taken_sum',\n",
              "       'utilib_returned_sum', 'utilib_14_sum', 'utilib_14_returned_sum',\n",
              "       'slots_freed_sum', 'slots_taken_sum'],\n",
              "      dtype='object')"
            ]
          },
          "metadata": {
            "tags": []
          },
          "execution_count": 315
        }
      ]
    },
    {
      "cell_type": "code",
      "metadata": {
        "colab": {
          "base_uri": "https://localhost:8080/"
        },
        "id": "63k3-OC9aD4W",
        "outputId": "e0e08b31-9326-4b21-a404-5f79194b84d3"
      },
      "source": [
        "## We also noticed our date column listed as dtype object hence will convert it to datetime\n",
        "\n",
        "##Importing the datetime library\n",
        "from datetime import datetime\n",
        "\n",
        "autolib_df['date'] = pd.to_datetime(autolib_df['date'], errors='coerce')\n",
        "\n",
        "#Confirming the changed dtype\n",
        "print(autolib_df.dtypes)"
      ],
      "execution_count": 316,
      "outputs": [
        {
          "output_type": "stream",
          "text": [
            "postal_code                        int64\n",
            "date                      datetime64[ns]\n",
            "n_daily_data_points                int64\n",
            "day_of_week                        int64\n",
            "day_type                          object\n",
            "blue_cars_taken_sum                int64\n",
            "blue_cars_returned_sum             int64\n",
            "utilib_taken_sum                   int64\n",
            "utilib_returned_sum                int64\n",
            "utilib_14_sum                      int64\n",
            "utilib_14_returned_sum             int64\n",
            "slots_freed_sum                    int64\n",
            "slots_taken_sum                    int64\n",
            "dtype: object\n"
          ],
          "name": "stdout"
        }
      ]
    },
    {
      "cell_type": "markdown",
      "metadata": {
        "id": "fnTfyKQTWFX8"
      },
      "source": [
        "**Dropping the columns and records that we do not need**"
      ]
    },
    {
      "cell_type": "code",
      "metadata": {
        "id": "bnSX_j4EWLbw"
      },
      "source": [
        "##Since we are doing an analysis on a claim about blue cars, we will drop the following irrelevant columns\n",
        "##utilib_taken_sum\n",
        "##utilib_returned_sum\n",
        "##utilib_14_sum\n",
        "##utilib_14_returned_sum\n",
        "##slots_freed_sum\n",
        "##slots_taken_sum\n"
      ],
      "execution_count": null,
      "outputs": []
    },
    {
      "cell_type": "code",
      "metadata": {
        "id": "-0zuD1DfXP6M"
      },
      "source": [
        "#Remove all columns between column index 7 to 14\n",
        "\n",
        "autolib_df.drop(autolib_df.iloc[:, 7:], inplace = True, axis = 1)\n",
        "\n"
      ],
      "execution_count": 317,
      "outputs": []
    },
    {
      "cell_type": "code",
      "metadata": {
        "colab": {
          "base_uri": "https://localhost:8080/"
        },
        "id": "JJkkU5DkrEwd",
        "outputId": "8a41df53-234a-454c-c73b-b4dfbd2604eb"
      },
      "source": [
        "#Previewing our columns\n",
        "autolib_df.columns"
      ],
      "execution_count": 318,
      "outputs": [
        {
          "output_type": "execute_result",
          "data": {
            "text/plain": [
              "Index(['postal_code', 'date', 'n_daily_data_points', 'day_of_week', 'day_type',\n",
              "       'blue_cars_taken_sum', 'blue_cars_returned_sum'],\n",
              "      dtype='object')"
            ]
          },
          "metadata": {
            "tags": []
          },
          "execution_count": 318
        }
      ]
    },
    {
      "cell_type": "markdown",
      "metadata": {
        "id": "vzflF8XiW71X"
      },
      "source": [
        "Using filter conditions to create our new dataset"
      ]
    },
    {
      "cell_type": "code",
      "metadata": {
        "colab": {
          "base_uri": "https://localhost:8080/"
        },
        "id": "Y-oE0-zvbdH6",
        "outputId": "5fac1d6e-769c-46a9-f89a-7972a0321879"
      },
      "source": [
        "#Since we are working with a specific day of the week type we need to create conditions that capture data in that frame\n",
        "#Postal codes 95880 and 75012 and day of week = weekend\n",
        "df1= autolib_df[(autolib_df.postal_code == 95880) & (autolib_df.day_type=='weekend')]\n",
        "df2= autolib_df[(autolib_df.postal_code ==75012) & (autolib_df.day_type=='weekend')]\n",
        "print(df1)\n",
        "print(df2)\n",
        "\n"
      ],
      "execution_count": 415,
      "outputs": [
        {
          "output_type": "stream",
          "text": [
            "       postal_code       date  ...  blue_cars_taken_sum  blue_cars_returned_sum\n",
            "15934        95880 2018-01-06  ...                   19                      22\n",
            "15935        95880 2018-01-07  ...                   28                      17\n",
            "15941        95880 2018-01-13  ...                   25                      26\n",
            "15942        95880 2018-01-14  ...                   39                      31\n",
            "15948        95880 2018-01-20  ...                   25                      20\n",
            "15949        95880 2018-01-21  ...                   26                      21\n",
            "15955        95880 2018-01-27  ...                   25                      24\n",
            "15956        95880 2018-01-28  ...                   26                      20\n",
            "15962        95880 2018-02-03  ...                   46                      53\n",
            "15963        95880 2018-02-04  ...                   28                      21\n",
            "15969        95880 2018-02-10  ...                   13                      15\n",
            "15970        95880 2018-02-11  ...                   26                      20\n",
            "15976        95880 2018-02-17  ...                   23                      19\n",
            "15977        95880 2018-02-18  ...                   36                      38\n",
            "15983        95880 2018-02-24  ...                    3                       4\n",
            "15987        95880 2018-03-03  ...                   18                      21\n",
            "15988        95880 2018-03-04  ...                   32                      28\n",
            "15994        95880 2018-03-10  ...                   23                      22\n",
            "15995        95880 2018-03-11  ...                   40                      31\n",
            "16001        95880 2018-03-17  ...                   34                      32\n",
            "16002        95880 2018-03-18  ...                   28                      24\n",
            "16008        95880 2018-03-24  ...                   20                      22\n",
            "16009        95880 2018-03-25  ...                   34                      24\n",
            "16015        95880 2018-03-31  ...                   23                      23\n",
            "16016        95880 2018-04-01  ...                   49                      47\n",
            "16022        95880 2018-04-07  ...                   29                      26\n",
            "16023        95880 2018-04-08  ...                   34                      33\n",
            "16029        95880 2018-04-14  ...                   38                      32\n",
            "16030        95880 2018-04-15  ...                   31                      29\n",
            "16036        95880 2018-04-21  ...                   37                      33\n",
            "16037        95880 2018-04-22  ...                   19                      18\n",
            "16043        95880 2018-04-28  ...                   15                      17\n",
            "16044        95880 2018-04-29  ...                   30                      26\n",
            "16050        95880 2018-05-05  ...                   26                      27\n",
            "16051        95880 2018-05-06  ...                   33                      25\n",
            "16054        95880 2018-05-20  ...                   30                      21\n",
            "16060        95880 2018-05-26  ...                   19                      17\n",
            "16061        95880 2018-05-27  ...                   37                      29\n",
            "16067        95880 2018-06-02  ...                   29                      25\n",
            "16068        95880 2018-06-03  ...                   36                      33\n",
            "16074        95880 2018-06-09  ...                   15                      15\n",
            "16075        95880 2018-06-10  ...                   34                      32\n",
            "16081        95880 2018-06-16  ...                   19                      19\n",
            "16082        95880 2018-06-17  ...                   33                      35\n",
            "\n",
            "[44 rows x 7 columns]\n",
            "      postal_code       date  ...  blue_cars_taken_sum  blue_cars_returned_sum\n",
            "1721        75012 2018-01-06  ...                  605                     611\n",
            "1722        75012 2018-01-07  ...                  634                     621\n",
            "1728        75012 2018-01-13  ...                  764                     770\n",
            "1729        75012 2018-01-14  ...                  673                     687\n",
            "1735        75012 2018-01-20  ...                  735                     758\n",
            "1736        75012 2018-01-21  ...                  666                     655\n",
            "1742        75012 2018-01-27  ...                  690                     717\n",
            "1743        75012 2018-01-28  ...                  642                     625\n",
            "1749        75012 2018-02-03  ...                  816                     798\n",
            "1750        75012 2018-02-04  ...                  609                     618\n",
            "1756        75012 2018-02-10  ...                  672                     669\n",
            "1757        75012 2018-02-11  ...                  617                     603\n",
            "1763        75012 2018-02-17  ...                  654                     671\n",
            "1764        75012 2018-02-18  ...                  724                     735\n",
            "1770        75012 2018-02-24  ...                   46                      61\n",
            "1774        75012 2018-03-03  ...                  654                     651\n",
            "1775        75012 2018-03-04  ...                  614                     593\n",
            "1781        75012 2018-03-10  ...                  661                     656\n",
            "1782        75012 2018-03-11  ...                  645                     642\n",
            "1788        75012 2018-03-17  ...                  637                     622\n",
            "1789        75012 2018-03-18  ...                  579                     581\n",
            "1795        75012 2018-03-24  ...                  710                     686\n",
            "1796        75012 2018-03-25  ...                  590                     596\n",
            "1802        75012 2018-03-31  ...                  610                     607\n",
            "1803        75012 2018-04-01  ...                  623                     608\n",
            "1809        75012 2018-04-07  ...                  648                     629\n",
            "1810        75012 2018-04-08  ...                  637                     629\n",
            "1816        75012 2018-04-14  ...                  673                     673\n",
            "1817        75012 2018-04-15  ...                  703                     684\n",
            "1823        75012 2018-04-21  ...                  657                     666\n",
            "1824        75012 2018-04-22  ...                  713                     685\n",
            "1830        75012 2018-04-28  ...                  585                     564\n",
            "1831        75012 2018-04-29  ...                  484                     497\n",
            "1837        75012 2018-05-05  ...                  580                     571\n",
            "1838        75012 2018-05-06  ...                  657                     667\n",
            "1841        75012 2018-05-20  ...                  467                     422\n",
            "1847        75012 2018-05-26  ...                  654                     647\n",
            "1848        75012 2018-05-27  ...                  727                     725\n",
            "1854        75012 2018-06-02  ...                  708                     694\n",
            "1855        75012 2018-06-03  ...                  680                     686\n",
            "1861        75012 2018-06-09  ...                  727                     724\n",
            "1862        75012 2018-06-10  ...                  687                     696\n",
            "1868        75012 2018-06-16  ...                  734                     707\n",
            "1869        75012 2018-06-17  ...                  636                     645\n",
            "\n",
            "[44 rows x 7 columns]\n"
          ],
          "name": "stdout"
        }
      ]
    },
    {
      "cell_type": "code",
      "metadata": {
        "id": "ywS8O_dx6V2z"
      },
      "source": [
        ""
      ],
      "execution_count": 263,
      "outputs": []
    },
    {
      "cell_type": "markdown",
      "metadata": {
        "id": "V6BPYnOubIP-"
      },
      "source": [
        "**Outliers**"
      ]
    },
    {
      "cell_type": "code",
      "metadata": {
        "colab": {
          "base_uri": "https://localhost:8080/",
          "height": 265
        },
        "id": "xEcAOCwHgYFz",
        "outputId": "3614e6a9-f3b6-4458-fad4-20c17581d736"
      },
      "source": [
        "# Potstal Code 95880\n",
        "plt.figure(figsize=(6,4))\n",
        "plt.boxplot(df1['blue_cars_taken_sum'])\n",
        "plt.show()\n",
        "\n",
        "##Has outliers"
      ],
      "execution_count": 320,
      "outputs": [
        {
          "output_type": "display_data",
          "data": {
            "image/png": "[encoded data removed]",
            "text/plain": [
              "<Figure size 432x288 with 1 Axes>"
            ]
          },
          "metadata": {
            "tags": [],
            "needs_background": "light"
          }
        }
      ]
    },
    {
      "cell_type": "code",
      "metadata": {
        "colab": {
          "base_uri": "https://localhost:8080/",
          "height": 265
        },
        "id": "sSuDPhp1i8gA",
        "outputId": "754d802d-406f-4b73-b978-a1ec677b208c"
      },
      "source": [
        "#Cars returned\n",
        "plt.figure(figsize=(6,4))\n",
        "plt.boxplot(df1['blue_cars_returned_sum'])\n",
        "plt.show()"
      ],
      "execution_count": 321,
      "outputs": [
        {
          "output_type": "display_data",
          "data": {
            "image/png": "[encoded data removed]",
            "text/plain": [
              "<Figure size 432x288 with 1 Axes>"
            ]
          },
          "metadata": {
            "tags": [],
            "needs_background": "light"
          }
        }
      ]
    },
    {
      "cell_type": "code",
      "metadata": {
        "colab": {
          "base_uri": "https://localhost:8080/",
          "height": 265
        },
        "id": "6zsKzourgy-2",
        "outputId": "84232560-54c5-4a56-b56a-4576fa41098c"
      },
      "source": [
        "##Postal code 75012\n",
        "plt.figure(figsize=(6,4))\n",
        "plt.boxplot(df2['blue_cars_taken_sum'])\n",
        "plt.show()"
      ],
      "execution_count": 322,
      "outputs": [
        {
          "output_type": "display_data",
          "data": {
            "image/png": "[encoded data removed]",
            "text/plain": [
              "<Figure size 432x288 with 1 Axes>"
            ]
          },
          "metadata": {
            "tags": [],
            "needs_background": "light"
          }
        }
      ]
    },
    {
      "cell_type": "code",
      "metadata": {
        "colab": {
          "base_uri": "https://localhost:8080/",
          "height": 265
        },
        "id": "lFba3Vpyi2ms",
        "outputId": "04ea2a85-ec36-4acb-ac8d-43cd18f8351e"
      },
      "source": [
        "plt.figure(figsize=(6,4))\n",
        "plt.boxplot(df2['blue_cars_returned_sum'])\n",
        "plt.show()"
      ],
      "execution_count": 323,
      "outputs": [
        {
          "output_type": "display_data",
          "data": {
            "image/png": "[encoded data removed]",
            "text/plain": [
              "<Figure size 432x288 with 1 Axes>"
            ]
          },
          "metadata": {
            "tags": [],
            "needs_background": "light"
          }
        }
      ]
    },
    {
      "cell_type": "markdown",
      "metadata": {
        "id": "xbdqOYnEhCkO"
      },
      "source": [
        "Dealing with the outliers"
      ]
    },
    {
      "cell_type": "code",
      "metadata": {
        "colab": {
          "base_uri": "https://localhost:8080/"
        },
        "id": "EXWGtDmrhGmX",
        "outputId": "03b1b710-365f-439a-d7a6-6048ac93ad2e"
      },
      "source": [
        "below_10=df1[df1.blue_cars_taken_sum < 10].index\n",
        "df1.drop(below_10, inplace = True)"
      ],
      "execution_count": 416,
      "outputs": [
        {
          "output_type": "stream",
          "text": [
            "/usr/local/lib/python3.7/dist-packages/pandas/core/frame.py:4174: SettingWithCopyWarning:\n",
            "\n",
            "\n",
            "A value is trying to be set on a copy of a slice from a DataFrame\n",
            "\n",
            "See the caveats in the documentation: https://pandas.pydata.org/pandas-docs/stable/user_guide/indexing.html#returning-a-view-versus-a-copy\n",
            "\n"
          ],
          "name": "stderr"
        }
      ]
    },
    {
      "cell_type": "code",
      "metadata": {
        "colab": {
          "base_uri": "https://localhost:8080/"
        },
        "id": "OXk6pFOohoBZ",
        "outputId": "7fc1462c-c71b-4781-d9ee-8257c1c2b438"
      },
      "source": [
        "below_500=df2[df2.blue_cars_taken_sum < 500].index\n",
        "df2.drop(below_500, inplace = True)"
      ],
      "execution_count": 417,
      "outputs": [
        {
          "output_type": "stream",
          "text": [
            "/usr/local/lib/python3.7/dist-packages/pandas/core/frame.py:4174: SettingWithCopyWarning:\n",
            "\n",
            "\n",
            "A value is trying to be set on a copy of a slice from a DataFrame\n",
            "\n",
            "See the caveats in the documentation: https://pandas.pydata.org/pandas-docs/stable/user_guide/indexing.html#returning-a-view-versus-a-copy\n",
            "\n"
          ],
          "name": "stderr"
        }
      ]
    },
    {
      "cell_type": "code",
      "metadata": {
        "colab": {
          "base_uri": "https://localhost:8080/"
        },
        "id": "VCQguQq2jXeh",
        "outputId": "ff9ea692-f070-4af3-8dfe-dc4744a8837d"
      },
      "source": [
        "below_10=df1[df1.blue_cars_returned_sum > 50].index\n",
        "df1.drop(below_10, inplace = True)"
      ],
      "execution_count": 418,
      "outputs": [
        {
          "output_type": "stream",
          "text": [
            "/usr/local/lib/python3.7/dist-packages/pandas/core/frame.py:4174: SettingWithCopyWarning:\n",
            "\n",
            "\n",
            "A value is trying to be set on a copy of a slice from a DataFrame\n",
            "\n",
            "See the caveats in the documentation: https://pandas.pydata.org/pandas-docs/stable/user_guide/indexing.html#returning-a-view-versus-a-copy\n",
            "\n"
          ],
          "name": "stderr"
        }
      ]
    },
    {
      "cell_type": "code",
      "metadata": {
        "colab": {
          "base_uri": "https://localhost:8080/"
        },
        "id": "-cTxkcZXlip1",
        "outputId": "0d115cc6-c461-4fac-c9a0-d41776bbba9b"
      },
      "source": [
        "below_10=df2[df2.blue_cars_returned_sum < 500].index\n",
        "df2.drop(below_10, inplace = True)"
      ],
      "execution_count": 419,
      "outputs": [
        {
          "output_type": "stream",
          "text": [
            "/usr/local/lib/python3.7/dist-packages/pandas/core/frame.py:4174: SettingWithCopyWarning:\n",
            "\n",
            "\n",
            "A value is trying to be set on a copy of a slice from a DataFrame\n",
            "\n",
            "See the caveats in the documentation: https://pandas.pydata.org/pandas-docs/stable/user_guide/indexing.html#returning-a-view-versus-a-copy\n",
            "\n"
          ],
          "name": "stderr"
        }
      ]
    },
    {
      "cell_type": "code",
      "metadata": {
        "colab": {
          "base_uri": "https://localhost:8080/",
          "height": 419
        },
        "id": "5IH3iOVyiAq0",
        "outputId": "042008a2-be42-4461-f2a3-4bcd94e24dba"
      },
      "source": [
        "frames = [df1, df2]\n",
        "df = pd.concat(frames, sort=False)\n",
        "df= df.drop(['n_daily_data_points'], axis = 1)\n",
        "df"
      ],
      "execution_count": 420,
      "outputs": [
        {
          "output_type": "execute_result",
          "data": {
            "text/html": [
              "<div>\n",
              "<style scoped>\n",
              "    .dataframe tbody tr th:only-of-type {\n",
              "        vertical-align: middle;\n",
              "    }\n",
              "\n",
              "    .dataframe tbody tr th {\n",
              "        vertical-align: top;\n",
              "    }\n",
              "\n",
              "    .dataframe thead th {\n",
              "        text-align: right;\n",
              "    }\n",
              "</style>\n",
              "<table border=\"1\" class=\"dataframe\">\n",
              "  <thead>\n",
              "    <tr style=\"text-align: right;\">\n",
              "      <th></th>\n",
              "      <th>postal_code</th>\n",
              "      <th>date</th>\n",
              "      <th>day_of_week</th>\n",
              "      <th>day_type</th>\n",
              "      <th>blue_cars_taken_sum</th>\n",
              "      <th>blue_cars_returned_sum</th>\n",
              "    </tr>\n",
              "  </thead>\n",
              "  <tbody>\n",
              "    <tr>\n",
              "      <th>15934</th>\n",
              "      <td>95880</td>\n",
              "      <td>2018-01-06</td>\n",
              "      <td>5</td>\n",
              "      <td>weekend</td>\n",
              "      <td>19</td>\n",
              "      <td>22</td>\n",
              "    </tr>\n",
              "    <tr>\n",
              "      <th>15935</th>\n",
              "      <td>95880</td>\n",
              "      <td>2018-01-07</td>\n",
              "      <td>6</td>\n",
              "      <td>weekend</td>\n",
              "      <td>28</td>\n",
              "      <td>17</td>\n",
              "    </tr>\n",
              "    <tr>\n",
              "      <th>15941</th>\n",
              "      <td>95880</td>\n",
              "      <td>2018-01-13</td>\n",
              "      <td>5</td>\n",
              "      <td>weekend</td>\n",
              "      <td>25</td>\n",
              "      <td>26</td>\n",
              "    </tr>\n",
              "    <tr>\n",
              "      <th>15942</th>\n",
              "      <td>95880</td>\n",
              "      <td>2018-01-14</td>\n",
              "      <td>6</td>\n",
              "      <td>weekend</td>\n",
              "      <td>39</td>\n",
              "      <td>31</td>\n",
              "    </tr>\n",
              "    <tr>\n",
              "      <th>15948</th>\n",
              "      <td>95880</td>\n",
              "      <td>2018-01-20</td>\n",
              "      <td>5</td>\n",
              "      <td>weekend</td>\n",
              "      <td>25</td>\n",
              "      <td>20</td>\n",
              "    </tr>\n",
              "    <tr>\n",
              "      <th>...</th>\n",
              "      <td>...</td>\n",
              "      <td>...</td>\n",
              "      <td>...</td>\n",
              "      <td>...</td>\n",
              "      <td>...</td>\n",
              "      <td>...</td>\n",
              "    </tr>\n",
              "    <tr>\n",
              "      <th>1855</th>\n",
              "      <td>75012</td>\n",
              "      <td>2018-06-03</td>\n",
              "      <td>6</td>\n",
              "      <td>weekend</td>\n",
              "      <td>680</td>\n",
              "      <td>686</td>\n",
              "    </tr>\n",
              "    <tr>\n",
              "      <th>1861</th>\n",
              "      <td>75012</td>\n",
              "      <td>2018-06-09</td>\n",
              "      <td>5</td>\n",
              "      <td>weekend</td>\n",
              "      <td>727</td>\n",
              "      <td>724</td>\n",
              "    </tr>\n",
              "    <tr>\n",
              "      <th>1862</th>\n",
              "      <td>75012</td>\n",
              "      <td>2018-06-10</td>\n",
              "      <td>6</td>\n",
              "      <td>weekend</td>\n",
              "      <td>687</td>\n",
              "      <td>696</td>\n",
              "    </tr>\n",
              "    <tr>\n",
              "      <th>1868</th>\n",
              "      <td>75012</td>\n",
              "      <td>2018-06-16</td>\n",
              "      <td>5</td>\n",
              "      <td>weekend</td>\n",
              "      <td>734</td>\n",
              "      <td>707</td>\n",
              "    </tr>\n",
              "    <tr>\n",
              "      <th>1869</th>\n",
              "      <td>75012</td>\n",
              "      <td>2018-06-17</td>\n",
              "      <td>6</td>\n",
              "      <td>weekend</td>\n",
              "      <td>636</td>\n",
              "      <td>645</td>\n",
              "    </tr>\n",
              "  </tbody>\n",
              "</table>\n",
              "<p>83 rows × 6 columns</p>\n",
              "</div>"
            ],
            "text/plain": [
              "       postal_code       date  ...  blue_cars_taken_sum blue_cars_returned_sum\n",
              "15934        95880 2018-01-06  ...                   19                     22\n",
              "15935        95880 2018-01-07  ...                   28                     17\n",
              "15941        95880 2018-01-13  ...                   25                     26\n",
              "15942        95880 2018-01-14  ...                   39                     31\n",
              "15948        95880 2018-01-20  ...                   25                     20\n",
              "...            ...        ...  ...                  ...                    ...\n",
              "1855         75012 2018-06-03  ...                  680                    686\n",
              "1861         75012 2018-06-09  ...                  727                    724\n",
              "1862         75012 2018-06-10  ...                  687                    696\n",
              "1868         75012 2018-06-16  ...                  734                    707\n",
              "1869         75012 2018-06-17  ...                  636                    645\n",
              "\n",
              "[83 rows x 6 columns]"
            ]
          },
          "metadata": {
            "tags": []
          },
          "execution_count": 420
        }
      ]
    },
    {
      "cell_type": "code",
      "metadata": {
        "id": "qnAdcgUnibIY"
      },
      "source": [
        "df['postal_code']= df['postal_code'].astype('category')\n",
        "df['day_of_week']= df['day_of_week'].astype('category')"
      ],
      "execution_count": 339,
      "outputs": []
    },
    {
      "cell_type": "code",
      "metadata": {
        "colab": {
          "base_uri": "https://localhost:8080/"
        },
        "id": "e8iiGk-9mV96",
        "outputId": "c93d6e24-72ea-47ba-8eef-635e71f8ce82"
      },
      "source": [
        "df.duplicated().sum()"
      ],
      "execution_count": 337,
      "outputs": [
        {
          "output_type": "execute_result",
          "data": {
            "text/plain": [
              "0"
            ]
          },
          "metadata": {
            "tags": []
          },
          "execution_count": 337
        }
      ]
    },
    {
      "cell_type": "markdown",
      "metadata": {
        "id": "GyyPdDUKPc6-"
      },
      "source": [
        "#3.0 Exploratory Data Analysis"
      ]
    },
    {
      "cell_type": "markdown",
      "metadata": {
        "id": "r3_uSWC8kNqD"
      },
      "source": [
        "**Univariate Analysis**"
      ]
    },
    {
      "cell_type": "code",
      "metadata": {
        "colab": {
          "base_uri": "https://localhost:8080/",
          "height": 297
        },
        "id": "mIxy_dvfkRkP",
        "outputId": "da21f790-0ad5-4cdc-c659-dec5dde76bf2"
      },
      "source": [
        "df.describe()"
      ],
      "execution_count": 340,
      "outputs": [
        {
          "output_type": "execute_result",
          "data": {
            "text/html": [
              "<div>\n",
              "<style scoped>\n",
              "    .dataframe tbody tr th:only-of-type {\n",
              "        vertical-align: middle;\n",
              "    }\n",
              "\n",
              "    .dataframe tbody tr th {\n",
              "        vertical-align: top;\n",
              "    }\n",
              "\n",
              "    .dataframe thead th {\n",
              "        text-align: right;\n",
              "    }\n",
              "</style>\n",
              "<table border=\"1\" class=\"dataframe\">\n",
              "  <thead>\n",
              "    <tr style=\"text-align: right;\">\n",
              "      <th></th>\n",
              "      <th>blue_cars_taken_sum</th>\n",
              "      <th>blue_cars_returned_sum</th>\n",
              "    </tr>\n",
              "  </thead>\n",
              "  <tbody>\n",
              "    <tr>\n",
              "      <th>count</th>\n",
              "      <td>83.000000</td>\n",
              "      <td>83.000000</td>\n",
              "    </tr>\n",
              "    <tr>\n",
              "      <th>mean</th>\n",
              "      <td>342.337349</td>\n",
              "      <td>338.939759</td>\n",
              "    </tr>\n",
              "    <tr>\n",
              "      <th>std</th>\n",
              "      <td>322.038260</td>\n",
              "      <td>321.718304</td>\n",
              "    </tr>\n",
              "    <tr>\n",
              "      <th>min</th>\n",
              "      <td>13.000000</td>\n",
              "      <td>15.000000</td>\n",
              "    </tr>\n",
              "    <tr>\n",
              "      <th>25%</th>\n",
              "      <td>28.000000</td>\n",
              "      <td>24.000000</td>\n",
              "    </tr>\n",
              "    <tr>\n",
              "      <th>50%</th>\n",
              "      <td>49.000000</td>\n",
              "      <td>47.000000</td>\n",
              "    </tr>\n",
              "    <tr>\n",
              "      <th>75%</th>\n",
              "      <td>655.500000</td>\n",
              "      <td>655.500000</td>\n",
              "    </tr>\n",
              "    <tr>\n",
              "      <th>max</th>\n",
              "      <td>816.000000</td>\n",
              "      <td>798.000000</td>\n",
              "    </tr>\n",
              "  </tbody>\n",
              "</table>\n",
              "</div>"
            ],
            "text/plain": [
              "       blue_cars_taken_sum  blue_cars_returned_sum\n",
              "count            83.000000               83.000000\n",
              "mean            342.337349              338.939759\n",
              "std             322.038260              321.718304\n",
              "min              13.000000               15.000000\n",
              "25%              28.000000               24.000000\n",
              "50%              49.000000               47.000000\n",
              "75%             655.500000              655.500000\n",
              "max             816.000000              798.000000"
            ]
          },
          "metadata": {
            "tags": []
          },
          "execution_count": 340
        }
      ]
    },
    {
      "cell_type": "markdown",
      "metadata": {
        "id": "OYvTqXEJsjNZ"
      },
      "source": [
        "Central Measure of Tendancy"
      ]
    },
    {
      "cell_type": "code",
      "metadata": {
        "id": "jZbNqkTBkkWo",
        "colab": {
          "base_uri": "https://localhost:8080/"
        },
        "outputId": "13ac1040-c464-49db-986f-4212922bdb46"
      },
      "source": [
        "#From the data above we can deduce the following central measures of tendancies\n",
        "#MEAN\n",
        "\n",
        "print('The mean of bluecars taken is: ' +str(df.blue_cars_taken_sum.mean()))\n",
        "print('The mean of bluecars returned is: ' +str(df.blue_cars_returned_sum.mean()))"
      ],
      "execution_count": 341,
      "outputs": [
        {
          "output_type": "stream",
          "text": [
            "The mean of bluecars taken is: 342.33734939759034\n",
            "The mean of bluecars returned is: 338.93975903614455\n"
          ],
          "name": "stdout"
        }
      ]
    },
    {
      "cell_type": "code",
      "metadata": {
        "colab": {
          "base_uri": "https://localhost:8080/"
        },
        "id": "rMhu6eYnnjlA",
        "outputId": "f2f02626-4c9b-4f88-ccb3-f4c42b9f7d1c"
      },
      "source": [
        "##VARIANCE\n",
        "\n",
        "print('The variance of bluecars taken is: ' +str(df.blue_cars_taken_sum.var()))\n",
        "print('The variance of bluecars returned is: ' +str(df.blue_cars_returned_sum.var()))"
      ],
      "execution_count": 333,
      "outputs": [
        {
          "output_type": "stream",
          "text": [
            "The variance of bluecars taken is: 103708.64090508377\n",
            "The variance of bluecars returned is: 103502.66705847779\n"
          ],
          "name": "stdout"
        }
      ]
    },
    {
      "cell_type": "code",
      "metadata": {
        "colab": {
          "base_uri": "https://localhost:8080/"
        },
        "id": "IW-rca05oLVE",
        "outputId": "d3623d06-fd1d-427e-e0ca-8b441d3483e9"
      },
      "source": [
        "#SKEWNESS\n",
        "\n",
        "print('The skewness of bluecars taken is: ' +str(df.blue_cars_taken_sum.skew()))\n",
        "print('The skewness of bluecars returned is: ' +str(df.blue_cars_returned_sum.skew()))\n",
        "\n",
        "#The values close to zero indicate that the symmetry of our data is close to a bell-shaped curve(normal distribution)\n",
        "\n"
      ],
      "execution_count": 334,
      "outputs": [
        {
          "output_type": "stream",
          "text": [
            "The skewness of bluecars taken is: 0.06437620998983849\n",
            "The skewness of bluecars returned is: 0.06712089059725253\n"
          ],
          "name": "stdout"
        }
      ]
    },
    {
      "cell_type": "code",
      "metadata": {
        "colab": {
          "base_uri": "https://localhost:8080/"
        },
        "id": "nFG6HDsHpiAf",
        "outputId": "bcc2dd7f-60f0-4b03-94f2-5d22de75b1ca"
      },
      "source": [
        "#KURTOSIS\n",
        "\n",
        "print('The kurtosis of bluecars taken is: ' +str(df.blue_cars_taken_sum.kurt()))\n",
        "print('The kutrosis of bluecars returned is: ' +str(df.blue_cars_returned_sum.kurt()))"
      ],
      "execution_count": 335,
      "outputs": [
        {
          "output_type": "stream",
          "text": [
            "The kurtosis of bluecars taken is: -1.9855497299137768\n",
            "The kutrosis of bluecars returned is: -1.9828417084480185\n"
          ],
          "name": "stdout"
        }
      ]
    },
    {
      "cell_type": "code",
      "metadata": {
        "colab": {
          "base_uri": "https://localhost:8080/"
        },
        "id": "ZhrFi-4ssohj",
        "outputId": "202a26c1-ca1f-47d3-ee8c-383207974908"
      },
      "source": [
        "#RANGE \n",
        "\n",
        "print('The range of bluecars taken is: ' +str(df.blue_cars_taken_sum.max()-df.blue_cars_taken_sum.min()))\n",
        "print('The range of bluecars returned is: ' +str(df.blue_cars_returned_sum.max()-df.blue_cars_returned_sum.min()))"
      ],
      "execution_count": 342,
      "outputs": [
        {
          "output_type": "stream",
          "text": [
            "The range of bluecars taken is: 803\n",
            "The range of bluecars returned is: 783\n"
          ],
          "name": "stdout"
        }
      ]
    },
    {
      "cell_type": "markdown",
      "metadata": {
        "id": "7QDOBmXGtQh6"
      },
      "source": [
        "**Bivariate Analysis**"
      ]
    },
    {
      "cell_type": "markdown",
      "metadata": {
        "id": "Grh5VrYbDShU"
      },
      "source": [
        "Categorical and Numerical"
      ]
    },
    {
      "cell_type": "code",
      "metadata": {
        "id": "bkt6zdyk5IY8",
        "colab": {
          "base_uri": "https://localhost:8080/",
          "height": 362
        },
        "outputId": "17b18b66-48bf-48d3-93fe-77912fda694d"
      },
      "source": [
        "#Let us compare which day of the weekend has the highest sum of bluecars taken\n",
        "\n",
        "print(df.groupby('day_of_week')['blue_cars_taken_sum'].sum())\n",
        "df.groupby('day_of_week')['blue_cars_taken_sum'].sum().plot.bar()\n",
        "\n",
        "##We can see that day 5 has a slightly higher number of blue cars taken in both areas but not significantly high"
      ],
      "execution_count": 343,
      "outputs": [
        {
          "output_type": "stream",
          "text": [
            "day_of_week\n",
            "5    14649\n",
            "6    13765\n",
            "Name: blue_cars_taken_sum, dtype: int64\n"
          ],
          "name": "stdout"
        },
        {
          "output_type": "execute_result",
          "data": {
            "text/plain": [
              "<matplotlib.axes._subplots.AxesSubplot at 0x7f88e1a668d0>"
            ]
          },
          "metadata": {
            "tags": []
          },
          "execution_count": 343
        },
        {
          "output_type": "display_data",
          "data": {
            "image/png": "[encoded data removed]",
            "text/plain": [
              "<Figure size 432x288 with 1 Axes>"
            ]
          },
          "metadata": {
            "tags": [],
            "needs_background": "light"
          }
        }
      ]
    },
    {
      "cell_type": "code",
      "metadata": {
        "colab": {
          "base_uri": "https://localhost:8080/",
          "height": 443
        },
        "id": "DC6pcsPbI7hs",
        "outputId": "f2f5fa3a-6e43-4c55-b79f-86db31317d8b"
      },
      "source": [
        "##Comparing the blue cars taken and blue cars returned at each postal code.\n",
        "fig, (ax1, ax2)= plt.subplots(1,2, figsize=(15, 7))\n",
        "fig.suptitle(\"\")\n",
        "sns.barplot(x= df.postal_code, y=df.blue_cars_taken_sum, ax=ax1)\n",
        "sns.barplot(x= df.postal_code, y=df.blue_cars_returned_sum, ax=ax2)\n",
        "plt.show()"
      ],
      "execution_count": 344,
      "outputs": [
        {
          "output_type": "display_data",
          "data": {
            "image/png": "[encoded data removed]",
            "text/plain": [
              "<Figure size 1080x504 with 2 Axes>"
            ]
          },
          "metadata": {
            "tags": [],
            "needs_background": "light"
          }
        }
      ]
    },
    {
      "cell_type": "markdown",
      "metadata": {
        "id": "u36JpiV9MkAG"
      },
      "source": [
        "We can deduce from the visualization above that the number of blue cars taken and those returned from postal code 75012 is way higher that those taken and returned in area postal code 95880. This is farther emphasised by the visualization below comparing the bluecars taken and blue cars returned to each postal address and day of the week"
      ]
    },
    {
      "cell_type": "code",
      "metadata": {
        "colab": {
          "base_uri": "https://localhost:8080/",
          "height": 280
        },
        "id": "zydgdCgPLIaI",
        "outputId": "ec5b2bf6-a852-41be-c67d-a1841653f37d"
      },
      "source": [
        "#Comparing the sum of blue cars taken and returned to our subject postal areas to the day of week.\n",
        "ax = sns.pointplot(x=\"postal_code\", y=\"blue_cars_taken_sum\", hue=\"day_of_week\",\n",
        "                   data=df, dodge=True)"
      ],
      "execution_count": 345,
      "outputs": [
        {
          "output_type": "display_data",
          "data": {
            "image/png": "[encoded data removed]",
            "text/plain": [
              "<Figure size 432x288 with 1 Axes>"
            ]
          },
          "metadata": {
            "tags": [],
            "needs_background": "light"
          }
        }
      ]
    },
    {
      "cell_type": "code",
      "metadata": {
        "colab": {
          "base_uri": "https://localhost:8080/",
          "height": 280
        },
        "id": "VL7PWs6JLvte",
        "outputId": "cb42fef2-fdd9-46f8-c925-b462a3a7f324"
      },
      "source": [
        "ax = sns.pointplot(x=\"postal_code\", y=\"blue_cars_returned_sum\", hue=\"day_of_week\",\n",
        "                   data=df, dodge=True)"
      ],
      "execution_count": 346,
      "outputs": [
        {
          "output_type": "display_data",
          "data": {
            "image/png": "[encoded data removed]",
            "text/plain": [
              "<Figure size 432x288 with 1 Axes>"
            ]
          },
          "metadata": {
            "tags": [],
            "needs_background": "light"
          }
        }
      ]
    },
    {
      "cell_type": "markdown",
      "metadata": {
        "id": "3kWPo64qvAHm"
      },
      "source": [
        "General correlation overview"
      ]
    },
    {
      "cell_type": "code",
      "metadata": {
        "id": "2GJldXIVvURO",
        "colab": {
          "base_uri": "https://localhost:8080/",
          "height": 111
        },
        "outputId": "9aae1a0e-3088-4c28-bdea-5780abb5f3f0"
      },
      "source": [
        "#Correlation\n",
        "correlation= df.corr()\n",
        "correlation"
      ],
      "execution_count": 347,
      "outputs": [
        {
          "output_type": "execute_result",
          "data": {
            "text/html": [
              "<div>\n",
              "<style scoped>\n",
              "    .dataframe tbody tr th:only-of-type {\n",
              "        vertical-align: middle;\n",
              "    }\n",
              "\n",
              "    .dataframe tbody tr th {\n",
              "        vertical-align: top;\n",
              "    }\n",
              "\n",
              "    .dataframe thead th {\n",
              "        text-align: right;\n",
              "    }\n",
              "</style>\n",
              "<table border=\"1\" class=\"dataframe\">\n",
              "  <thead>\n",
              "    <tr style=\"text-align: right;\">\n",
              "      <th></th>\n",
              "      <th>blue_cars_taken_sum</th>\n",
              "      <th>blue_cars_returned_sum</th>\n",
              "    </tr>\n",
              "  </thead>\n",
              "  <tbody>\n",
              "    <tr>\n",
              "      <th>blue_cars_taken_sum</th>\n",
              "      <td>1.000000</td>\n",
              "      <td>0.999521</td>\n",
              "    </tr>\n",
              "    <tr>\n",
              "      <th>blue_cars_returned_sum</th>\n",
              "      <td>0.999521</td>\n",
              "      <td>1.000000</td>\n",
              "    </tr>\n",
              "  </tbody>\n",
              "</table>\n",
              "</div>"
            ],
            "text/plain": [
              "                        blue_cars_taken_sum  blue_cars_returned_sum\n",
              "blue_cars_taken_sum                1.000000                0.999521\n",
              "blue_cars_returned_sum             0.999521                1.000000"
            ]
          },
          "metadata": {
            "tags": []
          },
          "execution_count": 347
        }
      ]
    },
    {
      "cell_type": "code",
      "metadata": {
        "colab": {
          "base_uri": "https://localhost:8080/",
          "height": 316
        },
        "id": "vIBni0LnvrOj",
        "outputId": "c75c562d-a6c7-4622-eee6-e0bf1076ca00"
      },
      "source": [
        "#Using Heatmaps to find the correlation of our numerical variables\n",
        "sns.heatmap(correlation, \n",
        "            xticklabels = correlation.columns.values,\n",
        "            yticklabels = correlation.columns.values,\n",
        "            annot = True);"
      ],
      "execution_count": 348,
      "outputs": [
        {
          "output_type": "display_data",
          "data": {
            "image/png": "[encoded data removed]",
            "text/plain": [
              "<Figure size 432x288 with 2 Axes>"
            ]
          },
          "metadata": {
            "tags": [],
            "needs_background": "light"
          }
        }
      ]
    },
    {
      "cell_type": "code",
      "metadata": {
        "colab": {
          "base_uri": "https://localhost:8080/",
          "height": 391
        },
        "id": "268lTSjItSyi",
        "outputId": "4589be16-abed-44e7-b253-e0b83d043990"
      },
      "source": [
        "#Finding correlation between our variables using scatterplots\n",
        "plt.figure(figsize=(14, 14))\n",
        "\n",
        "sns.pairplot(df, diag_kind='kde');"
      ],
      "execution_count": 349,
      "outputs": [
        {
          "output_type": "display_data",
          "data": {
            "text/plain": [
              "<Figure size 1008x1008 with 0 Axes>"
            ]
          },
          "metadata": {
            "tags": []
          }
        },
        {
          "output_type": "display_data",
          "data": {
            "image/png": "[encoded data removed]",
            "text/plain": [
              "<Figure size 360x360 with 6 Axes>"
            ]
          },
          "metadata": {
            "tags": [],
            "needs_background": "light"
          }
        }
      ]
    },
    {
      "cell_type": "markdown",
      "metadata": {
        "id": "81pu__hVOneS"
      },
      "source": [
        "There seems to be a strong direct relationship between the sum of blue cars taken and the sum of blue cars returned."
      ]
    },
    {
      "cell_type": "markdown",
      "metadata": {
        "id": "t8S74hkAPUeD"
      },
      "source": [
        "#4.0 Challenging our solution"
      ]
    },
    {
      "cell_type": "markdown",
      "metadata": {
        "id": "vY-5VGb5Pphm"
      },
      "source": [
        "We have found out from our basic analysis techniques above that:\n",
        "\n",
        "1.  The sum of blue cars taken from postal code 75012 are higher than those taken from 95880\n",
        "2.  The sum of blue cars returned from postal code 75012 are higher than those returned from 95880\n",
        "1.   There is a strong relationship between the sum of blue cars taken and the sum of blue cars returned in each of the stations\n",
        " \n",
        "\n",
        "\n",
        "\n",
        "\n",
        "\n"
      ]
    },
    {
      "cell_type": "markdown",
      "metadata": {
        "id": "tZ3JEoyyRsgW"
      },
      "source": [
        "**To challenge our solution:(relationship between bluecars taken and those returned) we will embark on hypothesis testing**"
      ]
    },
    {
      "cell_type": "code",
      "metadata": {
        "colab": {
          "base_uri": "https://localhost:8080/",
          "height": 282
        },
        "id": "F0xD4vaXb9B1",
        "outputId": "db275980-91c7-4c20-a208-acc531d901fe"
      },
      "source": [
        "##Checking for normalcy in our distribution\n",
        "\n",
        "df.blue_cars_taken_sum.hist()"
      ],
      "execution_count": 421,
      "outputs": [
        {
          "output_type": "execute_result",
          "data": {
            "text/plain": [
              "<matplotlib.axes._subplots.AxesSubplot at 0x7f88e0ee19d0>"
            ]
          },
          "metadata": {
            "tags": []
          },
          "execution_count": 421
        },
        {
          "output_type": "display_data",
          "data": {
            "image/png": "[encoded data removed]",
            "text/plain": [
              "<Figure size 432x288 with 1 Axes>"
            ]
          },
          "metadata": {
            "tags": [],
            "needs_background": "light"
          }
        }
      ]
    },
    {
      "cell_type": "code",
      "metadata": {
        "id": "P4zef0UUf34O"
      },
      "source": [
        "df1= autolib_df[(autolib_df.postal_code == 95880) & (autolib_df.day_type=='weekend')]\n",
        "df2= autolib_df[(autolib_df.postal_code ==75012) & (autolib_df.day_type=='weekend')]\n",
        "\n"
      ],
      "execution_count": 441,
      "outputs": []
    },
    {
      "cell_type": "code",
      "metadata": {
        "id": "b4tjzRe8ACz2"
      },
      "source": [
        "##Choosing random saples from both independent groups to perform our hypothesis\n",
        "import random\n",
        "\n",
        "df1 = df1.sample(n = 25, replace=\"False\")\n",
        "df2 = df2.sample(n = 25, replace=\"False\")"
      ],
      "execution_count": 442,
      "outputs": []
    },
    {
      "cell_type": "code",
      "metadata": {
        "colab": {
          "base_uri": "https://localhost:8080/",
          "height": 282
        },
        "id": "mG5aEmP3gBXd",
        "outputId": "e556bd4f-de9f-4420-d4d4-adc0601c9a6f"
      },
      "source": [
        "df1.blue_cars_taken_sum.hist()"
      ],
      "execution_count": 423,
      "outputs": [
        {
          "output_type": "execute_result",
          "data": {
            "text/plain": [
              "<matplotlib.axes._subplots.AxesSubplot at 0x7f88e0f0b2d0>"
            ]
          },
          "metadata": {
            "tags": []
          },
          "execution_count": 423
        },
        {
          "output_type": "display_data",
          "data": {
            "image/png": "[encoded data removed]",
            "text/plain": [
              "<Figure size 432x288 with 1 Axes>"
            ]
          },
          "metadata": {
            "tags": [],
            "needs_background": "light"
          }
        }
      ]
    },
    {
      "cell_type": "code",
      "metadata": {
        "colab": {
          "base_uri": "https://localhost:8080/",
          "height": 282
        },
        "id": "WqS4VhBOgH0P",
        "outputId": "b5d6cbfb-76ea-4fab-c0af-ceafde6d999b"
      },
      "source": [
        "df2.blue_cars_taken_sum.hist()"
      ],
      "execution_count": 424,
      "outputs": [
        {
          "output_type": "execute_result",
          "data": {
            "text/plain": [
              "<matplotlib.axes._subplots.AxesSubplot at 0x7f88e0dd5410>"
            ]
          },
          "metadata": {
            "tags": []
          },
          "execution_count": 424
        },
        {
          "output_type": "display_data",
          "data": {
            "image/png": "[encoded data removed]",
            "text/plain": [
              "<Figure size 432x288 with 1 Axes>"
            ]
          },
          "metadata": {
            "tags": [],
            "needs_background": "light"
          }
        }
      ]
    },
    {
      "cell_type": "code",
      "metadata": {
        "id": "nliGWyA2R2V3"
      },
      "source": [
        "#From the normalcy testing above we notice that our data is not bell shaped \n",
        "\n",
        "##Step 1: Stating our hypothesis\n",
        "\n",
        "#Null Hypothesis: There is no difference in the sum of bluecars taken and sum of bluecars returned in area 95880\n",
        "#Alternate hypothesis: There is a difference in the sum of bluecars taken in areas 95880\n",
        "Ho: Θ=Θo (The sum of bluecars taken and those returned in area 95880 are equal)\n",
        "Ha: Θ ≠ Θo (The sum of bluecars taken and those returned in the postal code 95880 not equal )\n",
        "##This means that it is going to be a two sided test"
      ],
      "execution_count": null,
      "outputs": []
    },
    {
      "cell_type": "code",
      "metadata": {
        "id": "WWhcBplZqJk2"
      },
      "source": [
        "##Setting our significance level or alpha\n",
        "#Our alpha is going to be 0.05"
      ],
      "execution_count": null,
      "outputs": []
    },
    {
      "cell_type": "code",
      "metadata": {
        "colab": {
          "base_uri": "https://localhost:8080/"
        },
        "id": "-E-3uw_1XGTT",
        "outputId": "9aaac265-d565-48c3-859a-b7022780f285"
      },
      "source": [
        "\n",
        "##In order to decide on the test, we need to check whether the two populations have equal variances or not. As a rule of thumb, we can assume the populations have equal variances if the ratio of the larger sample variance to the smaller sample variance is less than 4:1. \n",
        "\n",
        "print(np.var(df1['blue_cars_taken_sum']), np.var(df1['blue_cars_returned_sum']))\n",
        "##we can assume that the population variances are not equal since the ratio is greater than 4:1"
      ],
      "execution_count": 449,
      "outputs": [
        {
          "output_type": "stream",
          "text": [
            "88.13439999999999 68.0384\n"
          ],
          "name": "stdout"
        }
      ]
    },
    {
      "cell_type": "code",
      "metadata": {
        "colab": {
          "base_uri": "https://localhost:8080/"
        },
        "id": "WPCJTGELa3Rz",
        "outputId": "e352d09f-3e45-4110-bc6b-d2bdf52b9bb5"
      },
      "source": [
        "##We can then proceed to perform the Mann–Whitney U test (also called the Mann–Whitney–Wilcoxon (MWW), Wilcoxon rank-sum test (WRS), or Wilcoxon–Mann–Whitney test)\n",
        "\n",
        "import scipy.stats as stats\n",
        "\n",
        "stats.mannwhitneyu(df1['blue_cars_taken_sum'], df1['blue_cars_returned_sum'], alternative='two-sided')\n"
      ],
      "execution_count": 450,
      "outputs": [
        {
          "output_type": "execute_result",
          "data": {
            "text/plain": [
              "MannwhitneyuResult(statistic=368.0, pvalue=0.2847416619076215)"
            ]
          },
          "metadata": {
            "tags": []
          },
          "execution_count": 450
        }
      ]
    },
    {
      "cell_type": "code",
      "metadata": {
        "colab": {
          "base_uri": "https://localhost:8080/"
        },
        "id": "YmRuDNp5GDhZ",
        "outputId": "bcae479d-80cf-4695-f866-c04486c8fc7f"
      },
      "source": [
        "##Doing the same for postal code 75012\n",
        "\n",
        "stats.mannwhitneyu(df2['blue_cars_taken_sum'], df2['blue_cars_returned_sum'], alternative='two-sided')\n"
      ],
      "execution_count": 451,
      "outputs": [
        {
          "output_type": "execute_result",
          "data": {
            "text/plain": [
              "MannwhitneyuResult(statistic=316.0, pvalue=0.9535490780423267)"
            ]
          },
          "metadata": {
            "tags": []
          },
          "execution_count": 451
        }
      ]
    },
    {
      "cell_type": "markdown",
      "metadata": {
        "id": "smk2rRNY6H-k"
      },
      "source": [
        "Interpreting our results"
      ]
    },
    {
      "cell_type": "code",
      "metadata": {
        "id": "n7gNv4KIBVSU"
      },
      "source": [
        "##our pvalues are 0.28 (rounded off) and 0.95 (rounded off) which compared to our alpha 0.05 is greater.\n",
        "#p>alpha \n",
        "#thus we fail to reject the null hypothesis. We do not have sufficient evidence to say that the mean is different between the two groups."
      ],
      "execution_count": null,
      "outputs": []
    },
    {
      "cell_type": "markdown",
      "metadata": {
        "id": "c9abiqcsGjTC"
      },
      "source": [
        "**Conclusion**"
      ]
    },
    {
      "cell_type": "markdown",
      "metadata": {
        "id": "tSqUyuqgGq5P"
      },
      "source": [
        "Challenging our solution through hypothesis testin proves that our findings as had been stated challenging the solution are true"
      ]
    }
  ]
}